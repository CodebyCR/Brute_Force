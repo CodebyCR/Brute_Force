{
 "cells": [
  {
   "attachments": {},
   "cell_type": "markdown",
   "metadata": {
    "datalore": {
     "hide_input_from_viewers": false,
     "hide_output_from_viewers": false,
     "type": "MD"
    }
   },
   "source": [
    "# Brute Force script:\n",
    "\n",
    " - This script is **ONLY** for educational purposes!\n",
    "  \n",
    " - It will brute force a given password in a realy primitive way.\n",
    "  \n",
    " - It uses the itertools module to generate all possible combinations. \n",
    "  \n",
    " - This program will stop if any match the given password.\n",
    "\n",
    "<br/>\n",
    "\n",
    "### Important Note:\n",
    "\n",
    "  > *The time it takes to run this script is dependent on the length* <br/>\n",
    "  > *and complexity of the password and increases exponentially.* <br/>\n",
    "  > *In this case for a password of length 5, it takes about 20 minute to run.*"
   ]
  },
  {
   "cell_type": "code",
   "execution_count": 3,
   "metadata": {
    "datalore": {
     "hide_input_from_viewers": false,
     "hide_output_from_viewers": false,
     "type": "CODE"
    }
   },
   "outputs": [
    {
     "name": "stdout",
     "output_type": "stream",
     "text": [
      "Password found '67325' count of combinations: 4577839538\n"
     ]
    }
   ],
   "source": [
    "import itertools\n",
    "import string\n",
    "\n",
    "\n",
    "letters = string.ascii_uppercase + string.ascii_lowercase + string.digits + string.punctuation\n",
    "\n",
    "\n",
    "def brute_force(password: str) -> str:\n",
    "    if len(password) > 6:\n",
    "        return \"Password is too long, if you want to use this script with this password this takes a lot of time.\"\n",
    "\n",
    "    tryCount = 0\n",
    "    for currentTry in itertools.product(letters, repeat=len(password)):\n",
    "        tryCount += 1\n",
    "\n",
    "        currentTry = \"\".join(currentTry)\n",
    "\n",
    "        if currentTry == password:\n",
    "            return (f\"Password found '{currentTry}' count of combinations: {tryCount}\")\n",
    "\n",
    "    return (\"Password not found, this password contains special characters\")\n",
    "\n",
    "\n",
    "print(brute_force(\"67325\"))"
   ]
  },
  {
   "attachments": {},
   "cell_type": "markdown",
   "metadata": {
    "datalore": {
     "hide_input_from_viewers": false,
     "hide_output_from_viewers": false,
     "type": "MD"
    }
   },
   "source": [
    "### In reality:\n",
    "\n",
    "*This takes less than a second, because real Hackers use* \n",
    "- better kinds of algorithms like dictionary attacks\n",
    "- in faster languages\n",
    "- with multiple threads \n",
    "- maybe on high-end GPUs \n",
    "- and with some other tricks.\n",
    "\n",
    "\n",
    "\n",
    "<h6> source: <a href='https://github.com/CodebyCR/Brute_Force'>CodebyCR/Brute_Force</a> </h6>\n"
   ]
  }
 ],
 "metadata": {
  "datalore": {
   "base_environment": "default",
   "computation_mode": "JUPYTER",
   "package_manager": "pip",
   "packages": [],
   "version": 1
  },
  "kernelspec": {
   "display_name": "Python 3.9.7 64-bit",
   "language": "python",
   "name": "python3"
  },
  "language_info": {
   "codemirror_mode": {
    "name": "ipython",
    "version": 3
   },
   "file_extension": ".py",
   "mimetype": "text/x-python",
   "name": "python",
   "nbconvert_exporter": "python",
   "pygments_lexer": "ipython3",
   "version": "3.9.7"
  },
  "vscode": {
   "interpreter": {
    "hash": "aee8b7b246df8f9039afb4144a1f6fd8d2ca17a180786b69acc140d282b71a49"
   }
  }
 },
 "nbformat": 4,
 "nbformat_minor": 4
}
