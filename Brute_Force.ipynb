{
 "cells":[
  {
   "cell_type":"markdown",
   "source":[
    "# Brute Force script:\n",
    "\n",
    " - This script is **ONLY** for educational purposes!\n",
    "  \n",
    " - It will brute force a given password in a realy primitive way.\n",
    "  \n",
    " - It will use the itertools module to generate all possible combinations of the given password.\n",
    "\n",
    "<br\/>\n",
    "\n",
    "### Important Note:\n",
    "\n",
    "  > *The time it takes to run this script is dependent on the length* <br\/>\n",
    "  > *and complexity of the password and increases exponentially.* <br\/>\n",
    "  > *In this case for a password of length 5, it takes about 2-13 minute to run.*"
   ],
   "attachments":{
    
   },
   "metadata":{
    "datalore":{
     "type":"MD",
     "hide_input_from_viewers":false,
     "hide_output_from_viewers":false
    }
   }
  },
  {
   "cell_type":"code",
   "source":[
    "import itertools\n",
    "import string\n",
    "\n",
    "\n",
    "letters = string.ascii_uppercase + string.ascii_lowercase + string.digits + string.punctuation\n",
    "\n",
    "\n",
    "def brute_force(password: str) -> str:\n",
    "    if len(password) > 6:\n",
    "        return \"Password is too long, if you want to use this script with this password this takes a lot of time.\"\n",
    "\n",
    "    tryCount = 0\n",
    "    for currentTry in itertools.product(letters, repeat=len(password)):\n",
    "        tryCount += 1\n",
    "\n",
    "        currentTry = \"\".join(currentTry)\n",
    "\n",
    "        if currentTry == password:\n",
    "            return (f\"Password found '{currentTry}' count of combinations: {tryCount}\")\n",
    "\n",
    "    return (\"Password not found, this password contains special characters\")\n",
    "\n",
    "\n",
    "print(brute_force(\"67321\"))"
   ],
   "execution_count":null,
   "outputs":[
    
   ],
   "metadata":{
    "datalore":{
     "type":"CODE",
     "hide_input_from_viewers":false,
     "hide_output_from_viewers":false
    }
   }
  },
  {
   "cell_type":"markdown",
   "source":[
    "### In reality:\n",
    "\n",
    "*This takes less than a second, because real Hackers use* \n",
    "- better kinds of algorithms like dictionary attacks\n",
    "- in faster languages\n",
    "- with multiple threads \n",
    "- maybe on high-end GPUs \n",
    "- and with some other tricks."
   ],
   "attachments":{
    
   },
   "metadata":{
    "datalore":{
     "type":"MD",
     "hide_input_from_viewers":false,
     "hide_output_from_viewers":false
    }
   }
  }
 ],
 "metadata":{
  "kernelspec":{
   "display_name":"Python",
   "language":"python",
   "name":"python"
  },
  "datalore":{
   "version":1,
   "computation_mode":"JUPYTER",
   "package_manager":"pip",
   "base_environment":"default",
   "packages":[
    
   ]
  }
 },
 "nbformat":4,
 "nbformat_minor":4
}